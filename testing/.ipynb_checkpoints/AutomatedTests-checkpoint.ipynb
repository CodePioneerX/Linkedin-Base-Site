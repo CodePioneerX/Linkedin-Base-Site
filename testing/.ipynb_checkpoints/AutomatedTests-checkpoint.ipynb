{
 "cells": [
  {
   "cell_type": "markdown",
   "id": "e41a13ba",
   "metadata": {},
   "source": [
    "# Importing Libraries"
   ]
  },
  {
   "cell_type": "code",
   "execution_count": 24,
   "id": "0b5b6a2c",
   "metadata": {},
   "outputs": [],
   "source": [
    "from selenium import webdriver\n",
    "from selenium.webdriver.common.by import By\n",
    "from selenium.webdriver.support.ui import WebDriverWait\n",
    "from selenium.webdriver.support import expected_conditions as EC\n",
    "\n",
    "import time"
   ]
  },
  {
   "cell_type": "markdown",
   "id": "23a8e4b6",
   "metadata": {},
   "source": [
    "# Functions"
   ]
  },
  {
   "cell_type": "code",
   "execution_count": 40,
   "id": "a7212e2d",
   "metadata": {},
   "outputs": [],
   "source": [
    "def test_login(driver, username, password):\n",
    "    driver.get(\"http://insightwearai.sytes.net:3000/#/\")\n",
    "    driver.find_element(\"name\", \"email\").send_keys(username)\n",
    "    driver.find_element(\"name\", \"password\").send_keys(password)\n",
    "    driver.find_element(\"id\", \"submit\").click()\n",
    "    time.sleep(2)\n",
    "    response = driver.find_element(By.XPATH, '//*[@id=\"root\"]/div/div/div').text\n",
    "    return response\n",
    "\n",
    "    \n",
    "def register(driver, username, password, email):\n",
    "    driver.get(\"http://insightwearai.sytes.net:3000/#/\")\n",
    "    driver.find_element(\"name\", \"email\").send_keys(username)\n",
    "    driver.find_element(\"name\", \"password\").send_keys(password)\n",
    "    driver.find_element(\"name\", \"email\").send_keys(email)\n",
    "    time.sleep(0.5)\n",
    "    driver.find_element_by_id(\"submit\").click()\n",
    "\n",
    "def logout(driver):\n",
    "    driver.get(\"http://insightwearai.sytes.net:3000/#/\")\n",
    "    driver.find_element(\"id\",\"collasible-nav-dropdown\").click()\n",
    "    time.sleep(0.5)\n",
    "    driver.find_element(\"id\",\"logout\").click()\n",
    "    time.sleep(0.5)\n",
    "\n",
    "def test_url_access(driver):\n",
    "    success_urls = 3\n",
    "    urls = [\"http://insightwearai.sytes.net:3000/\", \"http://insightwearai.sytes.net:3000/viewProfile\", \"http://insightwearai.sytes.net:3000/jobs\"]\n",
    "    for url in urls:\n",
    "        driver.get(url)\n",
    "        if \"Access Denied\" in driver.page_source:\n",
    "            success_urls-=1\n",
    "            print(f\"No access to {url}\")\n",
    "        else:\n",
    "            print(f\"Access granted to {url}\")\n",
    "            \n",
    "    return success_urls / len(urls) *100"
   ]
  },
  {
   "cell_type": "markdown",
   "id": "9b76384b",
   "metadata": {},
   "source": [
    "# Results"
   ]
  },
  {
   "cell_type": "code",
   "execution_count": 42,
   "id": "878db772",
   "metadata": {},
   "outputs": [
    {
     "name": "stdout",
     "output_type": "stream",
     "text": [
      "Access granted to http://insightwearai.sytes.net:3000/\n",
      "Access granted to http://insightwearai.sytes.net:3000/viewProfile\n",
      "Access granted to http://insightwearai.sytes.net:3000/jobs\n",
      "success rate for access to urls =  100.0  %\n",
      "Access granted to http://insightwearai.sytes.net:3000/\n",
      "Access granted to http://insightwearai.sytes.net:3000/viewProfile\n",
      "Access granted to http://insightwearai.sytes.net:3000/jobs\n",
      "success rate for access to urls =  100.0  %\n",
      "Unothorized user:  No active account found with the given credentials\n",
      "Access granted to http://insightwearai.sytes.net:3000/\n",
      "Access granted to http://insightwearai.sytes.net:3000/viewProfile\n",
      "Access granted to http://insightwearai.sytes.net:3000/jobs\n",
      "success rate for access to urls =  100.0  %\n",
      "1 3\n"
     ]
    }
   ],
   "source": [
    "correct_response = [\"Active\",\"No active account found with the given credentials\",\"Active\"]\n",
    "passcode = \"PassCode123\"\n",
    "emails = [\"khalil@test.com\",\"false@test.com\", \"account@test.com\"]\n",
    "if __name__ == \"__main__\":\n",
    "    \n",
    "    success = len(emails)\n",
    "    response = \"\"\n",
    "    for i in range(len(emails)):\n",
    "        try:\n",
    "            driver = webdriver.Chrome()\n",
    "            response = test_login(driver, emails[i], passcode)\n",
    "            if response == correct_response[i]:\n",
    "                success-=1\n",
    "            time.sleep(1.5)\n",
    "\n",
    "            print(\"success rate for access to urls = \",test_url_access(driver), \" %\")\n",
    "\n",
    "\n",
    "            time.sleep(1.5)\n",
    "            logout(driver)\n",
    "            driver.quit()\n",
    "        except:\n",
    "            print(\"Unothorized user: \", response)\n",
    "            success-=1\n",
    "        \n",
    "    print(success, len(emails))"
   ]
  },
  {
   "cell_type": "code",
   "execution_count": 45,
   "id": "0ff4e619",
   "metadata": {},
   "outputs": [
    {
     "name": "stdout",
     "output_type": "stream",
     "text": [
      "success rate overall =  66.66666666666666  %\n"
     ]
    }
   ],
   "source": [
    "print(\"success rate overall = \",((success+1) / len(emails)) *100,\" %\")"
   ]
  },
  {
   "cell_type": "code",
   "execution_count": null,
   "id": "45d79917",
   "metadata": {},
   "outputs": [],
   "source": []
  }
 ],
 "metadata": {
  "kernelspec": {
   "display_name": "Python 3 (ipykernel)",
   "language": "python",
   "name": "python3"
  },
  "language_info": {
   "codemirror_mode": {
    "name": "ipython",
    "version": 3
   },
   "file_extension": ".py",
   "mimetype": "text/x-python",
   "name": "python",
   "nbconvert_exporter": "python",
   "pygments_lexer": "ipython3",
   "version": "3.9.12"
  }
 },
 "nbformat": 4,
 "nbformat_minor": 5
}
